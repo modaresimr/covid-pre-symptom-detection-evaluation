{
 "cells": [
  {
   "cell_type": "markdown",
   "id": "11a37188",
   "metadata": {},
   "source": [
    "# Run Different Methods\n",
    "The following code will run different methods of Pre-symptomatic COVID-19 Detection.\n",
    "\n",
    "You need to choose the method and its parameter.\n",
    "\n",
    "## Isolation Forest\n",
    "You need to use `isolationforest_param` where param is equal to contamination_rate. Smaller param means lower alarm rate. \n",
    "\n",
    "**suggested param range:** `[0.01:0.10]` \n",
    "\n",
    "**example:**\n",
    "`isolationforest_0.05`\n",
    "\n",
    "## Night Signal\n",
    "You need to use `nightsignal_param` where param is equal to red threshold. Larger means lower alarm rate. They suggested `param=4` \n",
    "\n",
    "**suggested param range:** `[1:10]` \n",
    "\n",
    "**example:**\n",
    "`nightsignal_4`\n",
    "\n",
    "## CuSum\n",
    "You need to use `CuSum_param` where param is equal to threshold. Larger means lower alarm rate. They suggested `param=0.95` \n",
    "\n",
    "**suggested param range:** `[0.70:0.99]` \n",
    "\n",
    "**example:**\n",
    "`CuSum_0.95`\n",
    "\n",
    "## Random\n",
    "You need to use `random_param` where param is equal to red alarm probability. Smaller means lower alarm rate.  \n",
    "\n",
    "**suggested param range:** `[0.01:0.20]` \n",
    "\n",
    "**example:**\n",
    "`random_0.03` \n",
    "\n",
    "## rhrad\n",
    "You need to use `rhrad_param` where param is equal to threshold. Smaller param means lower alarm rate. They suggested `param=0.1` \n",
    "\n",
    "**suggested param range:** `[0.01:0.20]` \n",
    "\n",
    "**example:**\n",
    "`rhrad_0.05`\n",
    "\n",
    "## laad\n",
    "You need to use `laad_param` where param is equal to threshold. Larger param means lower alarm rate. They suggested `param=1` \n",
    "\n",
    "**suggested param range:** `[0.80:1.20]` \n",
    "\n",
    "**example:**\n",
    "`laad_1`\n",
    "\n",
    "\n"
   ]
  },
  {
   "cell_type": "code",
   "execution_count": null,
   "id": "e7d6cb32",
   "metadata": {
    "ExecuteTime": {
     "end_time": "2022-02-06T21:42:48.778481Z",
     "start_time": "2022-02-06T21:40:37.385017Z"
    }
   },
   "outputs": [],
   "source": [
    "%matplotlib inline\n",
    "\n",
    "import pandas as pd\n",
    "from IPython.display import Image\n",
    "import ali\n",
    "ali.reload()\n",
    "\n",
    "ali.dataset_utils.download()\n",
    "\n",
    "args = {\n",
    "    'methods' : [\n",
    "        'isolationforest_0.05', 'isolationforest_0.1',\n",
    "        'nightsignal_10','nightsignal_4','nightsignal_1',\n",
    "        'CuSum_0.70','CuSum_0.90','CuSum_0.95',\n",
    "        'rhrad_0.05','rhrad_0.1','rhrad_0.15',\n",
    "        'random_0.03','random_0.07','random_0.10',\n",
    "        'rhrad_0.02','rhrad_0.05','rhrad_0.08',\n",
    "        'laad_0.85','laad_0.9','laad_1',\n",
    "    ],   \n",
    "    \n",
    "    'only_positive':1, # change it to 0 if you want to run it for all users not only the possitive covid\n",
    "    'rerun':0, # to rerun the result change it to 1 otherwise it will not rerun if exist\n",
    "    #'only_person':['P111019',], # To run for a specific person uncomment this line    \n",
    "    'parallel':0,\n",
    "    'debug':1,\n",
    "    'trace':0,\n",
    "    'show_final_graph':0,\n",
    "    'save_plots_for_user':1,\n",
    "    'show_exception':1,\n",
    "}\n",
    "\n",
    "ali.multi_run.run(args)\n",
    "\"finished\""
   ]
  }
 ],
 "metadata": {
  "kernelspec": {
   "display_name": "Python 3",
   "language": "python",
   "name": "python3"
  },
  "language_info": {
   "codemirror_mode": {
    "name": "ipython",
    "version": 3
   },
   "file_extension": ".py",
   "mimetype": "text/x-python",
   "name": "python",
   "nbconvert_exporter": "python",
   "pygments_lexer": "ipython3",
   "version": "3.8.10"
  },
  "toc": {
   "base_numbering": 1,
   "nav_menu": {},
   "number_sections": false,
   "sideBar": true,
   "skip_h1_title": false,
   "title_cell": "Table of Contents",
   "title_sidebar": "Contents",
   "toc_cell": false,
   "toc_position": {},
   "toc_section_display": true,
   "toc_window_display": false
  },
  "varInspector": {
   "cols": {
    "lenName": 16,
    "lenType": 16,
    "lenVar": 40
   },
   "kernels_config": {
    "python": {
     "delete_cmd_postfix": "",
     "delete_cmd_prefix": "del ",
     "library": "var_list.py",
     "varRefreshCmd": "print(var_dic_list())"
    },
    "r": {
     "delete_cmd_postfix": ") ",
     "delete_cmd_prefix": "rm(",
     "library": "var_list.r",
     "varRefreshCmd": "cat(var_dic_list()) "
    }
   },
   "types_to_exclude": [
    "module",
    "function",
    "builtin_function_or_method",
    "instance",
    "_Feature"
   ],
   "window_display": false
  }
 },
 "nbformat": 4,
 "nbformat_minor": 5
}
