{
 "cells": [
  {
   "cell_type": "markdown",
   "id": "9231cf36",
   "metadata": {},
   "source": [
    "# Load Dataset"
   ]
  },
  {
   "cell_type": "code",
   "execution_count": null,
   "id": "80adf2e5",
   "metadata": {
    "ExecuteTime": {
     "end_time": "2022-01-29T22:12:46.836964Z",
     "start_time": "2022-01-29T22:12:46.789851Z"
    }
   },
   "outputs": [],
   "source": [
    "import ali\n",
    "ali.reload()\n",
    "ali.dataset_utils.download()\n",
    "dataset=ali.dataset_utils.load('P330232')\n",
    "# dataset"
   ]
  },
  {
   "cell_type": "markdown",
   "id": "a1f211bc",
   "metadata": {},
   "source": [
    "# Re Evaluate"
   ]
  },
  {
   "cell_type": "code",
   "execution_count": null,
   "id": "3022b7c8",
   "metadata": {
    "ExecuteTime": {
     "end_time": "2022-02-01T11:52:35.451542Z",
     "start_time": "2022-02-01T11:48:40.781961Z"
    }
   },
   "outputs": [],
   "source": [
    "import ali\n",
    "ali.reload()\n",
    "\n",
    "res=ali.evals.reEvalAll({\n",
    "    'parallel':1,\n",
    "#     'methods':['random_0.05','ns_orig','ad_f_8H_8H_1H_all']\n",
    "    'methods':[\n",
    "        'nightsignal_30','nightsignal_15','nightsignal_10','nightsignal_6','nightsignal_5','nightsignal_4','nightsignal_3','nightsignal_2','nightsignal_1',\n",
    "    \n",
    "        'random_0.01','random_0.02','random_0.04','random_0.05','random_0.06','random_0.08','random_0.09','random_0.10','random_0.11','random_0.13','random_0.15','random_0.17','random_0.19','random_0.20','random_0.22','random_0.25','random_0.27','random_0.30',\n",
    "\n",
    "    'rhrad_0.02','rhrad_0.05','rhrad_0.08', 'rhrad_0.1','rhrad_0.2','rhrad_0.25','rhrad_0.3','rhrad_0.4','rhrad_0.5',\n",
    "#         'CuSum_0.65',\n",
    "    'CuSum_0.70','CuSum_0.80','CuSum_0.85','CuSum_0.90','CuSum_0.92','CuSum_0.95','CuSum_0.97','CuSum_0.99',\n",
    "    'laad_0.5','laad_0.6','laad_0.7','laad_0.8','laad_0.85','laad_0.9','laad_0.95','laad_1','laad_1.05','laad_1.1','laad_1.15','laad_1.2',\n",
    "    'isolationforest_0.01','isolationforest_0.02','isolationforest_0.03','isolationforest_0.04','isolationforest_0.05','isolationforest_0.06','isolationforest_0.08','isolationforest_0.1','isolationforest_0.15','isolationforest_0.2','isolationforest_0.3',#'isolationforest_0.4',\n",
    "]\n",
    "\n",
    "})"
   ]
  },
  {
   "cell_type": "markdown",
   "id": "e6dc0d50",
   "metadata": {
    "heading_collapsed": true
   },
   "source": [
    "# Final Result Viewer"
   ]
  },
  {
   "cell_type": "code",
   "execution_count": null,
   "id": "fe3fb3d0",
   "metadata": {
    "hidden": true
   },
   "outputs": [],
   "source": [
    "import os \n",
    "import pandas as pd\n",
    "from IPython.display import Image\n",
    "import ali.methods\n",
    "import ali.multi_run\n",
    "all={i:0 for i in range(31)}\n",
    "args={'only_positive':1,\n",
    "#      'only-person':['P111019']\n",
    "     }\n",
    "for id in ali.multi_run.getFileInfo(args):\n",
    "    if not os.path.isfile(f'output/my/{id}/eval.csv'):\n",
    "            continue\n",
    "    display(Image(f'output/my/{id}/all.png'))\n",
    "#     dataset=ali.methods.load(id)\n",
    "#     eval=pd.read_csv(f'output/my/{id}/eval.csv',header=[0,1],index_col=0)\n"
   ]
  },
  {
   "cell_type": "markdown",
   "id": "46bb46f0",
   "metadata": {
    "heading_collapsed": true
   },
   "source": [
    "# Result Ploter"
   ]
  },
  {
   "cell_type": "code",
   "execution_count": null,
   "id": "f7b0e7e0",
   "metadata": {
    "ExecuteTime": {
     "end_time": "2022-01-31T00:08:08.030663Z",
     "start_time": "2022-01-31T00:08:06.825947Z"
    },
    "hidden": true
   },
   "outputs": [],
   "source": [
    "import os \n",
    "import pandas as pd\n",
    "from IPython.display import Image\n",
    "import ali\n",
    "ali.reload()\n",
    "\n",
    "methods=[\n",
    "#         'nightsignal_30',\n",
    "        'nightsignal_15',\n",
    "#         'nightsignal_10',\n",
    "        'nightsignal_6',\n",
    "#         'nightsignal_5',\n",
    "        'nightsignal_4',\n",
    "#         'nightsignal_3',\n",
    "        'nightsignal_2',\n",
    "#         'nightsignal_1',\n",
    "#     'isolationforest_0.01',\n",
    "#     'isolationforest_0.02',\n",
    "#     'isolationforest_0.03',\n",
    "#     'isolationforest_0.04',\n",
    "    'isolationforest_0.05',\n",
    "#     'isolationforest_0.06',\n",
    "#     'isolationforest_0.08',\n",
    "#     'isolationforest_0.1',\n",
    "    'isolationforest_0.15',\n",
    "    'isolationforest_0.2',\n",
    "    'isolationforest_0.3',\n",
    "    'random_0.01',\n",
    "#         'random_0.03',\n",
    "        'random_0.05',\n",
    "#         'random_0.07',\n",
    "    'random_0.09',\n",
    "#         'random_0.11',\n",
    "#         'random_0.13',\n",
    "#         'random_0.15',\n",
    "#         'random_0.17',\n",
    "#         'random_0.19',\n",
    "        'random_0.20',\n",
    "#     'random_0.22','random_0.25','random_0.27','random_0.30',\n",
    "        'rhrad_0.02',\n",
    "#     'rhrad_0.05','rhrad_0.08',\n",
    "        'rhrad_0.1',\n",
    "#         'rhrad_0.15',\n",
    "        'rhrad_0.2',\n",
    "#         'rhrad_0.25',\n",
    "#         'rhrad_0.3',\n",
    "        'rhrad_0.4',\n",
    "#         'rhrad_0.5',\n",
    "        'CuSum_0.70',\n",
    "        'CuSum_0.80',\n",
    "#         'CuSum_0.85',\n",
    "        'CuSum_0.90',\n",
    "#         'CuSum_0.92',\n",
    "#         'CuSum_0.95',\n",
    "#         'CuSum_0.97',\n",
    "        'CuSum_0.99',\n",
    "        'laad_0.6',\n",
    "#         'laad_0.85',\n",
    "        'laad_0.7',\n",
    "        'laad_0.95',\n",
    "#         'laad_1',\n",
    "#         'laad_1.05',\n",
    "#         'laad_1.1',\n",
    "#         'laad_1.15',\n",
    "        'laad_1.3',\n",
    "\n",
    "]\n",
    "\n",
    "all={i:0 for i in range(31)}\n",
    "args={'only_positive':1,\n",
    "#      'only-person':['P111019']\n",
    "#       'only_device':'Fitbit',\n",
    "#       'only_device':'AppleWatch'\n",
    "     }\n",
    "evals=[]\n",
    "participants=ali.dataset_utils.getParticipants(args)\n",
    "for id in participants:\n",
    "    if not os.path.isfile(f'output/my/{id}/eval.csv'):\n",
    "        continue\n",
    "    user_eval=pd.read_csv(f'output/my/{id}/eval.csv',header=[0,1],index_col=0)\n",
    "    if participants[id]['device']=='AppleWatch':\n",
    "        user_eval=user_eval.drop([r for r in user_eval.index if r.split('_')[0] in ['rhrad','CuSum','isolationforest']])\n",
    "        \n",
    "        \n",
    "    evals.append(user_eval)\n",
    "    \n",
    "res=pd.concat(evals).groupby(level=0).sum()\n",
    "res=ali.evals.CalcMetrics(res)\n",
    "# res2=res[res[('total','covid')]==84].loc[methods][('total',)].iloc[::-1]\n",
    "res=res.loc[methods]\n",
    "ms=res.index.str.split('_',expand=True).get_level_values(0).unique()[::-1]\n",
    "res=res.sort_values([('nature','TNR')],ascending=True)\n",
    "res2=res[('total',)]\n",
    "\n",
    "res2=res2[np.arange(0,22).astype(str)].T.expanding().sum()\n",
    "\n",
    "# res2=res2.reindex(methods, axis=1)\n",
    "# print(res2)\n",
    "import matplotlib.pyplot as plt\n",
    "\n",
    "\n",
    "# ms=np.unique([m.split('_')[0] for m in methods])\n",
    "import math\n",
    "f,axs=plt.subplots(math.floor((ms.shape[0]-1)/2),math.ceil(ms.shape[0]/2),sharex=True, sharey=True,figsize=(15,10))\n",
    "\n",
    "axs=axs.reshape(-1)\n",
    "for i,m in enumerate(ms):\n",
    "    for r in [c for c in res2.columns if m in c]:\n",
    "        tnr=res.loc[r,('nature','TNR')]\n",
    "        total=res.loc[r,('total','covid')]\n",
    "        percent=(res2[[r]]/total)\n",
    "#         axs[i].plot(percent.index,percent[r],label=f'p={r.split(\"_\")[1]} TNR={tnr:.2f}')\n",
    "        axs[i].plot(percent.index,percent[r],label=f'TNR={tnr:.2f}')\n",
    "        axs[i].legend(prop={'size': 12},loc='upper left')\n",
    "        axs[i].set_title(m)\n",
    "        axs[i].set_xticks(range(0,22,3))\n",
    "        axs[i].set_xlim(0,21)\n",
    "        axs[i].set_ylim(0,1.02)\n",
    "        axs[i].grid(True)\n",
    "        if i%3==0:\n",
    "            axs[i].set_ylabel('TPR')\n",
    "        if i>=3*1:\n",
    "            axs[i].set_xlabel('Day')\n",
    "#         percent.plot.line(label=f'{r} FPR={fpr}',ax=axs[i],le)\n",
    "# plt.legend(bbox_to_anchor=(1, 1))\n",
    "\n",
    "\n",
    "# res2"
   ]
  },
  {
   "cell_type": "markdown",
   "id": "eb917be8",
   "metadata": {
    "heading_collapsed": true
   },
   "source": [
    "# Plot ROC\n"
   ]
  },
  {
   "cell_type": "code",
   "execution_count": null,
   "id": "0688f0f5",
   "metadata": {
    "ExecuteTime": {
     "end_time": "2022-02-01T09:51:56.567823Z",
     "start_time": "2022-02-01T09:51:48.426579Z"
    },
    "hidden": true
   },
   "outputs": [],
   "source": [
    "print('Ploting ROC...')\n",
    "import os \n",
    "import pandas as pd\n",
    "from IPython.display import Image\n",
    "import matplotlib.pyplot as plt\n",
    "import ali\n",
    "import numpy as np\n",
    "ali.reload()\n",
    "\n",
    "methods=[\n",
    "        'nightsignal_30','nightsignal_15','nightsignal_10','nightsignal_6','nightsignal_5','nightsignal_4','nightsignal_3','nightsignal_2','nightsignal_1',\n",
    "    \n",
    "        'random_0.01','random_0.02','random_0.04','random_0.05','random_0.06','random_0.08','random_0.09','random_0.10','random_0.11','random_0.13','random_0.15','random_0.17','random_0.19','random_0.20','random_0.22','random_0.25','random_0.27','random_0.30',\n",
    "\n",
    "    'rhrad_0.02','rhrad_0.05','rhrad_0.08', 'rhrad_0.1','rhrad_0.2','rhrad_0.25','rhrad_0.3','rhrad_0.4','rhrad_0.5',\n",
    "#         'CuSum_0.65',\n",
    "    'CuSum_0.70','CuSum_0.80','CuSum_0.85','CuSum_0.90','CuSum_0.92','CuSum_0.95','CuSum_0.97','CuSum_0.99',\n",
    "    'laad_0.5','laad_0.6','laad_0.7','laad_0.8','laad_0.85','laad_0.9','laad_0.95','laad_1','laad_1.05','laad_1.1','laad_1.15','laad_1.2',\n",
    "    'isolationforest_0.01','isolationforest_0.02','isolationforest_0.03','isolationforest_0.04','isolationforest_0.05','isolationforest_0.06','isolationforest_0.08','isolationforest_0.1','isolationforest_0.15','isolationforest_0.2','isolationforest_0.3',#'isolationforest_0.4',\n",
    "]\n",
    "\n",
    "all={i:0 for i in range(31)}\n",
    "args={\n",
    "#     'only_positive':1,\n",
    "#      'only-person':['P111019']\n",
    "#       'only_device':'Fitbit',\n",
    "#       'only_device':'AppleWatch'\n",
    "     }\n",
    "evals=[]\n",
    "participants=ali.dataset_utils.getParticipants(args)\n",
    "from tqdm.notebook import tqdm\n",
    "\n",
    "for id in tqdm(participants):\n",
    "    if not os.path.isfile(f'output/my/{id}/eval.csv'):\n",
    "        continue\n",
    "    if id not in participants:\n",
    "        continue\n",
    "    user_eval=pd.read_csv(f'output/my/{id}/eval.csv',header=[0,1],index_col=0)\n",
    "    if participants[id]['device']=='AppleWatch':\n",
    "        user_eval=user_eval.drop([r for r in user_eval.index if r.split('_')[0] in ['rhrad','CuSum','isolationforest']])\n",
    "    evals.append(user_eval)\n",
    "\n",
    "res=pd.concat(evals).groupby(level=0).sum()\n",
    "# print(res)\n",
    "\n",
    "# res2=res[res[('total','covid')]==84].loc[methods].iloc[::-1]\n",
    "res2=res.loc[methods].iloc[::-1]\n",
    "res3=ali.evals.CalcMetrics(res2)\n",
    "res3['method']=res3.index.str.split('_',expand=True).get_level_values(0)\n",
    "# res3=res3[('nature',)]\n",
    "# print(res3)\n",
    "# res2=res2[np.arange(0,22).astype(str)].T.expanding().sum()/84*100\n",
    "# res2=res2.reindex(methods, axis=1)\n",
    "# print(res2)\n",
    "# import matplotlib.pyplot as plt\n",
    "f,[ax1,ax2]=plt.subplots(1,2,sharex=True,figsize=(14,5))\n",
    "import matplotlib\n",
    "markers = iter(matplotlib.lines.Line2D.markers.keys())\n",
    "colors = iter(matplotlib.cm.tab10(range(20)))\n",
    "for m in res3['method'].unique():\n",
    "    mres=res3.loc[res3['method']==m].copy()\n",
    "#     print(mres)\n",
    "    mres.loc[f'{m}_0']={('nature','FPR'):0,('nature',\"TPR\"):0,('new','FPR'):0,('new',\"TPR\"):0}\n",
    "    \n",
    "    mres=mres.sort_values(('nature','FPR'))\n",
    "#     display(mres)\n",
    "    marker=next(markers)\n",
    "    color=next(colors)\n",
    "    mres.plot.line(x=('nature','FPR'),y=('nature',\"TPR\"),marker=marker,color=color,ax=ax1,label=m)\n",
    "    mres.plot.line(x=('new','FPR'),y=('new',\"TPR\"),marker=marker,color=color,ax=ax2,label=m)\n",
    "#     res3.plot.line(x='FPR',y=\"TPR\",ax=ax)\n",
    "# plt.legend(bbox_to_anchor=(1, 1))\n",
    "ax1.plot(np.arange(0,.4,.3),np.arange(0,.4,.3),'--',label=\"TPR=FPR\")\n",
    "ax2.plot(np.arange(0,.4,.3),np.arange(0,.4,.3),'--',label=\"TPR=FPR\")\n",
    "ax1.set_ylabel('TPR')\n",
    "ax1.set_xlabel('FPR      (a) Nature Metric')\n",
    "ax2.set_xlabel('FPR      (b) Our Metric')\n",
    "ax2.legend(bbox_to_anchor= (1, 1.0),loc=\"upper left\")\n",
    "ax1.set_xlim(0,.28)\n",
    "ax1.set_ylim(0,1.02)\n",
    "ax2.set_ylim(0,.55)\n",
    "# ax1.set_yscale('log')\n",
    "ax1.legend('',frameon=False)\n",
    "\n",
    "# res2"
   ]
  },
  {
   "cell_type": "markdown",
   "id": "05c689b9",
   "metadata": {
    "ExecuteTime": {
     "end_time": "2022-02-01T11:54:47.135304Z",
     "start_time": "2022-02-01T11:49:52.820Z"
    }
   },
   "source": [
    "# Plot New ROC base on days"
   ]
  },
  {
   "cell_type": "code",
   "execution_count": null,
   "id": "87163ec2",
   "metadata": {
    "ExecuteTime": {
     "end_time": "2022-02-01T12:12:34.198380Z",
     "start_time": "2022-02-01T11:55:10.170427Z"
    }
   },
   "outputs": [],
   "source": [
    "import ali\n",
    "ali.reload()\n",
    "allres={}\n",
    "methods=[\n",
    "        'nightsignal_30','nightsignal_15','nightsignal_10','nightsignal_6','nightsignal_5','nightsignal_4','nightsignal_3','nightsignal_2','nightsignal_1',\n",
    "    \n",
    "        'random_0.01','random_0.02','random_0.04','random_0.05','random_0.06','random_0.08','random_0.09','random_0.10','random_0.11','random_0.13','random_0.15','random_0.17','random_0.19','random_0.20','random_0.22','random_0.25','random_0.27','random_0.30',\n",
    "\n",
    "    'rhrad_0.02','rhrad_0.05','rhrad_0.08', 'rhrad_0.1','rhrad_0.2','rhrad_0.25','rhrad_0.3','rhrad_0.4','rhrad_0.5',\n",
    "#         'CuSum_0.65',\n",
    "    'CuSum_0.70','CuSum_0.80','CuSum_0.85','CuSum_0.90','CuSum_0.92','CuSum_0.95','CuSum_0.97','CuSum_0.99',\n",
    "    'laad_0.5','laad_0.6','laad_0.7','laad_0.8','laad_0.85','laad_0.9','laad_0.95','laad_1','laad_1.05','laad_1.1','laad_1.15','laad_1.2',\n",
    "    'isolationforest_0.01','isolationforest_0.02','isolationforest_0.03','isolationforest_0.04','isolationforest_0.05','isolationforest_0.06','isolationforest_0.08','isolationforest_0.1','isolationforest_0.15','isolationforest_0.2','isolationforest_0.3',#'isolationforest_0.4',\n",
    "    ]\n",
    "for day in [3,7,10,14]:\n",
    "   allres[day]=ali.evals.reEvalAll({\n",
    "    'eval-new-days':day,\n",
    "    'parallel':1,\n",
    "#     'methods':['random_0.05','ns_orig','ad_f_8H_8H_1H_all']\n",
    "    'methods':methods\n",
    "\n",
    "    })\n",
    "\n",
    "\n"
   ]
  },
  {
   "cell_type": "code",
   "execution_count": null,
   "id": "03a8d1b3",
   "metadata": {},
   "outputs": [],
   "source": [
    "f,axs=plt.subplots(2,len(allres)//2),sharex=True,sharey=True,figsize=(14,10))\n",
    "axs=np.reshape(axs,(-1))\n",
    "for iii,day in enumerate(allres):\n",
    "    res=allres[day]\n",
    "    res2=res.loc[methods].iloc[::-1]\n",
    "    res3=ali.evals.CalcMetrics(res2)\n",
    "    res3['method']=res3.index.str.split('_',expand=True).get_level_values(0)\n",
    "    # res3=res3[('nature',)]\n",
    "    # print(res3)\n",
    "    # res2=res2[np.arange(0,22).astype(str)].T.expanding().sum()/84*100\n",
    "    # res2=res2.reindex(methods, axis=1)\n",
    "    # print(res2)\n",
    "    # import matplotlib.pyplot as plt\n",
    "    \n",
    "    import matplotlib\n",
    "    markers = iter(matplotlib.lines.Line2D.markers.keys())\n",
    "    colors = iter(matplotlib.cm.tab10(range(20)))\n",
    "    for m in res3['method'].unique():\n",
    "        mres=res3.loc[res3['method']==m].copy()\n",
    "    #     print(mres)\n",
    "        mres.loc[f'{m}_0']={('nature','FPR'):0,('nature',\"TPR\"):0,('new','FPR'):0,('new',\"TPR\"):0}\n",
    "\n",
    "        mres=mres.sort_values(('nature','FPR'))\n",
    "    #     display(mres)\n",
    "        marker=next(markers)\n",
    "        color=next(colors)\n",
    "#         mres.plot.line(x=('nature','FPR'),y=('nature',\"TPR\"),marker=marker,color=color,ax=ax1,label=m)\n",
    "        mres.plot.line(x=('new','FPR'),y=('new',\"TPR\"),marker=marker,color=color,ax=axs[iii],label=m)\n",
    "    #     res3.plot.line(x='FPR',y=\"TPR\",ax=ax)\n",
    "    # plt.legend(bbox_to_anchor=(1, 1))\n",
    "    axs[iii].plot(np.arange(0,.4,.3),np.arange(0,.4,.3),'--',label=\"TPR=FPR\")\n",
    "    axs[iii].plot(np.arange(0,.4,.3),np.arange(0,.4,.3),'--',label=\"TPR=FPR\")\n",
    "    axs[iii].set_ylabel('TPR')\n",
    "    ax1.set_xlabel('FPR      (a) Nature Metric')\n",
    "    ax2.set_xlabel('FPR      (b) Our Metric')\n",
    "    ax2.legend(bbox_to_anchor= (1, 1.0),loc=\"upper left\")\n",
    "    ax1.set_xlim(0,.28)\n",
    "    ax1.set_ylim(0,1.02)\n",
    "    ax2.set_ylim(0,.55)\n",
    "    # ax1.set_yscale('log')\n",
    "    axs[iii].legend('',frameon=False)\n",
    "    \n"
   ]
  },
  {
   "cell_type": "markdown",
   "id": "ff862331",
   "metadata": {},
   "source": [
    "# Plot eval information"
   ]
  },
  {
   "cell_type": "code",
   "execution_count": null,
   "id": "c656c8a8",
   "metadata": {
    "ExecuteTime": {
     "end_time": "2022-02-01T10:16:04.621698Z",
     "start_time": "2022-02-01T10:15:57.030460Z"
    }
   },
   "outputs": [],
   "source": [
    "print('Ploting ROC...')\n",
    "import os \n",
    "import pandas as pd\n",
    "from IPython.display import Image\n",
    "import matplotlib.pyplot as plt\n",
    "import ali\n",
    "import numpy as np\n",
    "ali.reload()\n",
    "\n",
    "methods=[\n",
    "        'nightsignal_30','nightsignal_15','nightsignal_10','nightsignal_6','nightsignal_5','nightsignal_4','nightsignal_3','nightsignal_2','nightsignal_1',\n",
    "    \n",
    "        'random_0.01','random_0.02','random_0.04','random_0.05','random_0.06','random_0.08','random_0.09','random_0.10','random_0.11','random_0.13','random_0.15','random_0.17','random_0.19','random_0.20','random_0.22','random_0.25','random_0.27','random_0.30',\n",
    "\n",
    "    'rhrad_0.02','rhrad_0.05','rhrad_0.08', 'rhrad_0.1','rhrad_0.2','rhrad_0.25','rhrad_0.3','rhrad_0.4','rhrad_0.5',\n",
    "#         'CuSum_0.65',\n",
    "    'CuSum_0.70','CuSum_0.80','CuSum_0.85','CuSum_0.90','CuSum_0.92','CuSum_0.95','CuSum_0.97','CuSum_0.99',\n",
    "    'laad_0.5','laad_0.6','laad_0.7','laad_0.8','laad_0.85','laad_0.9','laad_0.95','laad_1','laad_1.05','laad_1.1','laad_1.15','laad_1.2',\n",
    "    'isolationforest_0.01','isolationforest_0.02','isolationforest_0.03','isolationforest_0.04','isolationforest_0.05','isolationforest_0.06','isolationforest_0.08','isolationforest_0.1','isolationforest_0.15','isolationforest_0.2','isolationforest_0.3',#'isolationforest_0.4',\n",
    "]\n",
    "\n",
    "all={i:0 for i in range(31)}\n",
    "args={\n",
    "#     'only_positive':1,\n",
    "#      'only-person':['P111019']\n",
    "#       'only_device':'Fitbit',\n",
    "#       'only_device':'AppleWatch'\n",
    "     }\n",
    "evals=[]\n",
    "participants=ali.dataset_utils.getParticipants(args)\n",
    "from tqdm.notebook import tqdm\n",
    "\n",
    "for id in tqdm(participants):\n",
    "    if not os.path.isfile(f'output/my/{id}/eval.csv'):\n",
    "        continue\n",
    "    if id not in participants:\n",
    "        continue\n",
    "    user_eval=pd.read_csv(f'output/my/{id}/eval.csv',header=[0,1],index_col=0)\n",
    "    if participants[id]['device']=='AppleWatch':\n",
    "        user_eval=user_eval.drop([r for r in user_eval.index if r.split('_')[0] in ['rhrad','CuSum','isolationforest']])\n",
    "    evals.append(user_eval)\n",
    "\n",
    "res=pd.concat(evals).groupby(level=0).sum()\n",
    "res2=res.loc[methods].iloc[::-1]\n",
    "eval_plot = ali.ui.eval_ploter(args=args)\n",
    "eval_plot.plot_evals(res2,True)\n"
   ]
  },
  {
   "cell_type": "code",
   "execution_count": null,
   "id": "28fb5bbf",
   "metadata": {
    "ExecuteTime": {
     "end_time": "2022-02-01T11:47:15.457855Z",
     "start_time": "2022-02-01T11:47:13.823546Z"
    }
   },
   "outputs": [],
   "source": [
    "import ali\n",
    "ali.reload()\n",
    "eval_plot = ali.ui.eval_ploter(args={},add2display=True)\n",
    "methods=[\n",
    "    #    'nightsignal_30',\n",
    "    'nightsignal_15','nightsignal_10','nightsignal_6','nightsignal_5',\n",
    "    #'nightsignal_4','nightsignal_3','nightsignal_2','nightsignal_1',\n",
    "    \n",
    "        'random_0.01','random_0.02','random_0.04','random_0.05',#'random_0.06','random_0.08','random_0.09','random_0.10','random_0.11','random_0.13','random_0.15','random_0.17','random_0.19','random_0.20','random_0.22','random_0.25','random_0.27','random_0.30',\n",
    "\n",
    "    'rhrad_0.02','rhrad_0.05','rhrad_0.08', 'rhrad_0.1',#'rhrad_0.2','rhrad_0.25','rhrad_0.3','rhrad_0.4','rhrad_0.5',\n",
    "#         'CuSum_0.65',\n",
    "    #'CuSum_0.70','CuSum_0.80','CuSum_0.85','CuSum_0.90',\n",
    "    'CuSum_0.92','CuSum_0.95','CuSum_0.97','CuSum_0.99',\n",
    "    #'laad_0.5','laad_0.6','laad_0.7','laad_0.8','laad_0.85',\n",
    "    'laad_0.9','laad_0.95','laad_1','laad_1.05','laad_1.1','laad_1.15','laad_1.2',\n",
    "    'isolationforest_0.01','isolationforest_0.02','isolationforest_0.03','isolationforest_0.04',\n",
    "    #'isolationforest_0.05','isolationforest_0.06','isolationforest_0.08','isolationforest_0.1','isolationforest_0.15','isolationforest_0.2','isolationforest_0.3',#'isolationforest_0.4',\n",
    "]\n",
    "\n",
    "res2=res.loc[methods].iloc[::-1]\n",
    "eval_plot.plot_evals(res2,True)\n",
    "res"
   ]
  },
  {
   "cell_type": "markdown",
   "id": "765ebb58",
   "metadata": {},
   "source": [
    "# Final Image Viewer deprecated"
   ]
  },
  {
   "cell_type": "code",
   "execution_count": null,
   "id": "94a4db58",
   "metadata": {
    "ExecuteTime": {
     "start_time": "2022-01-28T20:10:47.411Z"
    },
    "scrolled": true
   },
   "outputs": [],
   "source": [
    "import ali\n",
    "ali.reload()\n",
    "\n",
    "import os \n",
    "import pandas as pd\n",
    "import ipyumbrella as uw\n",
    "from IPython.display import Image\n",
    "ids=os.listdir('output/my')\n",
    "acc=uw.Accordion().D\n",
    "# ids=['P111019']\n",
    "for id in ids:\n",
    "#     with acc.item(f'{id}'): \n",
    "        if not os.path.isfile(f'output/my/{id}/eval.csv'):\n",
    "            continue\n",
    "    \n",
    "        eval=pd.read_csv(f'output/my/{id}/eval.csv',header=[0,1],index_col=0)\n",
    "    #         if 'ad_f_8H_8H_1H' in eval.index and eval.loc['ad_f_8H_8H_1H'][('nature','tp')]==0:\n",
    "    #             print(id)\n",
    "                #             display(eval)\n",
    "    #     for img in sorted(os.listdir(f'output/my/{id}/')):\n",
    "    #         if '.png' in img and 'random' not in img and 'alisignal' not in img:\n",
    "    #             display(Image(f'output/my/{id}/{img}'))\n",
    "        display(Image(f'output/my/{id}/all.png'))"
   ]
  }
 ],
 "metadata": {
  "kernelspec": {
   "display_name": "Python 3",
   "language": "python",
   "name": "python3"
  },
  "language_info": {
   "codemirror_mode": {
    "name": "ipython",
    "version": 3
   },
   "file_extension": ".py",
   "mimetype": "text/x-python",
   "name": "python",
   "nbconvert_exporter": "python",
   "pygments_lexer": "ipython3",
   "version": "3.8.10"
  },
  "toc": {
   "base_numbering": 1,
   "nav_menu": {},
   "number_sections": false,
   "sideBar": true,
   "skip_h1_title": false,
   "title_cell": "Table of Contents",
   "title_sidebar": "Contents",
   "toc_cell": false,
   "toc_position": {},
   "toc_section_display": true,
   "toc_window_display": false
  },
  "varInspector": {
   "cols": {
    "lenName": 16,
    "lenType": 16,
    "lenVar": 40
   },
   "kernels_config": {
    "python": {
     "delete_cmd_postfix": "",
     "delete_cmd_prefix": "del ",
     "library": "var_list.py",
     "varRefreshCmd": "print(var_dic_list())"
    },
    "r": {
     "delete_cmd_postfix": ") ",
     "delete_cmd_prefix": "rm(",
     "library": "var_list.r",
     "varRefreshCmd": "cat(var_dic_list()) "
    }
   },
   "types_to_exclude": [
    "module",
    "function",
    "builtin_function_or_method",
    "instance",
    "_Feature"
   ],
   "window_display": false
  }
 },
 "nbformat": 4,
 "nbformat_minor": 5
}
